{
  "nbformat": 4,
  "nbformat_minor": 0,
  "metadata": {
    "colab": {
      "provenance": [],
      "authorship_tag": "ABX9TyNO16NWlN+2HEmIHitpkmbA",
      "include_colab_link": true
    },
    "kernelspec": {
      "name": "python3",
      "display_name": "Python 3"
    },
    "language_info": {
      "name": "python"
    }
  },
  "cells": [
    {
      "cell_type": "markdown",
      "metadata": {
        "id": "view-in-github",
        "colab_type": "text"
      },
      "source": [
        "<a href=\"https://colab.research.google.com/github/abhirbhandary/Python/blob/main/1_Time_Series_EDA.ipynb\" target=\"_parent\"><img src=\"https://colab.research.google.com/assets/colab-badge.svg\" alt=\"Open In Colab\"/></a>"
      ]
    },
    {
      "cell_type": "markdown",
      "source": [
        "### 1. Install Pandas Data Reader -> Financial Data"
      ],
      "metadata": {
        "id": "aWpJKf_LbTjF"
      }
    },
    {
      "cell_type": "markdown",
      "source": [
        "Pandas Data Reader is a subpackage of the popular Python data manipulation library called pandas. It provides a convenient interface to fetch financial and economic data from various online sources directly into a pandas DataFrame. The primary use case is to easily retrieve and work with time-series data, particularly financial market data, such as stock prices, economic indicators, and more."
      ],
      "metadata": {
        "id": "njyLAFQIdoS1"
      }
    },
    {
      "cell_type": "code",
      "execution_count": null,
      "metadata": {
        "id": "s8tllmyWZIWz"
      },
      "outputs": [],
      "source": [
        "## Install Pandas Data Reader\n",
        "!pip install pandas-datareader"
      ]
    },
    {
      "cell_type": "code",
      "source": [
        "import pandas_datareader as pdr\n",
        "import pandas as pd\n",
        "from datetime import datetime"
      ],
      "metadata": {
        "id": "u4e7rpb_d5MF"
      },
      "execution_count": 33,
      "outputs": []
    },
    {
      "cell_type": "code",
      "source": [
        "# In 2024 pdr.get_data_yahoo('TSLA') doesnot work use this instead\n",
        "import yfinance as yf"
      ],
      "metadata": {
        "id": "YbxnWDQ-gXKK"
      },
      "execution_count": null,
      "outputs": []
    },
    {
      "cell_type": "code",
      "source": [
        "# pdr.get_data_yahoo('TSLA')"
      ],
      "metadata": {
        "id": "LmnuvBQ4eSCm"
      },
      "execution_count": null,
      "outputs": []
    },
    {
      "cell_type": "code",
      "source": [
        "df = yf.download('TSLA')"
      ],
      "metadata": {
        "id": "6Tnd29NlgfXu"
      },
      "execution_count": null,
      "outputs": []
    },
    {
      "cell_type": "code",
      "source": [
        "df.tail()"
      ],
      "metadata": {
        "colab": {
          "base_uri": "https://localhost:8080/",
          "height": 237
        },
        "id": "zyvKEWNwgv-b",
        "outputId": "356ce25e-87a7-48af-e68c-5ab0bc09e896"
      },
      "execution_count": 11,
      "outputs": [
        {
          "output_type": "execute_result",
          "data": {
            "text/plain": [
              "                  Open        High         Low       Close   Adj Close  \\\n",
              "Date                                                                     \n",
              "2024-02-05  184.259995  184.679993  175.009995  181.059998  181.059998   \n",
              "2024-02-06  177.210007  186.490005  177.110001  185.100006  185.100006   \n",
              "2024-02-07  188.179993  189.789993  182.679993  187.580002  187.580002   \n",
              "2024-02-08  189.000000  191.619995  185.580002  189.559998  189.559998   \n",
              "2024-02-09  190.179993  194.119995  189.479996  193.570007  193.570007   \n",
              "\n",
              "               Volume  \n",
              "Date                   \n",
              "2024-02-05  134294400  \n",
              "2024-02-06  122676000  \n",
              "2024-02-07  111535200  \n",
              "2024-02-08   83034000  \n",
              "2024-02-09   84327600  "
            ],
            "text/html": [
              "\n",
              "  <div id=\"df-167afe46-ed76-4574-86ea-5a4ea319fce4\" class=\"colab-df-container\">\n",
              "    <div>\n",
              "<style scoped>\n",
              "    .dataframe tbody tr th:only-of-type {\n",
              "        vertical-align: middle;\n",
              "    }\n",
              "\n",
              "    .dataframe tbody tr th {\n",
              "        vertical-align: top;\n",
              "    }\n",
              "\n",
              "    .dataframe thead th {\n",
              "        text-align: right;\n",
              "    }\n",
              "</style>\n",
              "<table border=\"1\" class=\"dataframe\">\n",
              "  <thead>\n",
              "    <tr style=\"text-align: right;\">\n",
              "      <th></th>\n",
              "      <th>Open</th>\n",
              "      <th>High</th>\n",
              "      <th>Low</th>\n",
              "      <th>Close</th>\n",
              "      <th>Adj Close</th>\n",
              "      <th>Volume</th>\n",
              "    </tr>\n",
              "    <tr>\n",
              "      <th>Date</th>\n",
              "      <th></th>\n",
              "      <th></th>\n",
              "      <th></th>\n",
              "      <th></th>\n",
              "      <th></th>\n",
              "      <th></th>\n",
              "    </tr>\n",
              "  </thead>\n",
              "  <tbody>\n",
              "    <tr>\n",
              "      <th>2024-02-05</th>\n",
              "      <td>184.259995</td>\n",
              "      <td>184.679993</td>\n",
              "      <td>175.009995</td>\n",
              "      <td>181.059998</td>\n",
              "      <td>181.059998</td>\n",
              "      <td>134294400</td>\n",
              "    </tr>\n",
              "    <tr>\n",
              "      <th>2024-02-06</th>\n",
              "      <td>177.210007</td>\n",
              "      <td>186.490005</td>\n",
              "      <td>177.110001</td>\n",
              "      <td>185.100006</td>\n",
              "      <td>185.100006</td>\n",
              "      <td>122676000</td>\n",
              "    </tr>\n",
              "    <tr>\n",
              "      <th>2024-02-07</th>\n",
              "      <td>188.179993</td>\n",
              "      <td>189.789993</td>\n",
              "      <td>182.679993</td>\n",
              "      <td>187.580002</td>\n",
              "      <td>187.580002</td>\n",
              "      <td>111535200</td>\n",
              "    </tr>\n",
              "    <tr>\n",
              "      <th>2024-02-08</th>\n",
              "      <td>189.000000</td>\n",
              "      <td>191.619995</td>\n",
              "      <td>185.580002</td>\n",
              "      <td>189.559998</td>\n",
              "      <td>189.559998</td>\n",
              "      <td>83034000</td>\n",
              "    </tr>\n",
              "    <tr>\n",
              "      <th>2024-02-09</th>\n",
              "      <td>190.179993</td>\n",
              "      <td>194.119995</td>\n",
              "      <td>189.479996</td>\n",
              "      <td>193.570007</td>\n",
              "      <td>193.570007</td>\n",
              "      <td>84327600</td>\n",
              "    </tr>\n",
              "  </tbody>\n",
              "</table>\n",
              "</div>\n",
              "    <div class=\"colab-df-buttons\">\n",
              "\n",
              "  <div class=\"colab-df-container\">\n",
              "    <button class=\"colab-df-convert\" onclick=\"convertToInteractive('df-167afe46-ed76-4574-86ea-5a4ea319fce4')\"\n",
              "            title=\"Convert this dataframe to an interactive table.\"\n",
              "            style=\"display:none;\">\n",
              "\n",
              "  <svg xmlns=\"http://www.w3.org/2000/svg\" height=\"24px\" viewBox=\"0 -960 960 960\">\n",
              "    <path d=\"M120-120v-720h720v720H120Zm60-500h600v-160H180v160Zm220 220h160v-160H400v160Zm0 220h160v-160H400v160ZM180-400h160v-160H180v160Zm440 0h160v-160H620v160ZM180-180h160v-160H180v160Zm440 0h160v-160H620v160Z\"/>\n",
              "  </svg>\n",
              "    </button>\n",
              "\n",
              "  <style>\n",
              "    .colab-df-container {\n",
              "      display:flex;\n",
              "      gap: 12px;\n",
              "    }\n",
              "\n",
              "    .colab-df-convert {\n",
              "      background-color: #E8F0FE;\n",
              "      border: none;\n",
              "      border-radius: 50%;\n",
              "      cursor: pointer;\n",
              "      display: none;\n",
              "      fill: #1967D2;\n",
              "      height: 32px;\n",
              "      padding: 0 0 0 0;\n",
              "      width: 32px;\n",
              "    }\n",
              "\n",
              "    .colab-df-convert:hover {\n",
              "      background-color: #E2EBFA;\n",
              "      box-shadow: 0px 1px 2px rgba(60, 64, 67, 0.3), 0px 1px 3px 1px rgba(60, 64, 67, 0.15);\n",
              "      fill: #174EA6;\n",
              "    }\n",
              "\n",
              "    .colab-df-buttons div {\n",
              "      margin-bottom: 4px;\n",
              "    }\n",
              "\n",
              "    [theme=dark] .colab-df-convert {\n",
              "      background-color: #3B4455;\n",
              "      fill: #D2E3FC;\n",
              "    }\n",
              "\n",
              "    [theme=dark] .colab-df-convert:hover {\n",
              "      background-color: #434B5C;\n",
              "      box-shadow: 0px 1px 3px 1px rgba(0, 0, 0, 0.15);\n",
              "      filter: drop-shadow(0px 1px 2px rgba(0, 0, 0, 0.3));\n",
              "      fill: #FFFFFF;\n",
              "    }\n",
              "  </style>\n",
              "\n",
              "    <script>\n",
              "      const buttonEl =\n",
              "        document.querySelector('#df-167afe46-ed76-4574-86ea-5a4ea319fce4 button.colab-df-convert');\n",
              "      buttonEl.style.display =\n",
              "        google.colab.kernel.accessAllowed ? 'block' : 'none';\n",
              "\n",
              "      async function convertToInteractive(key) {\n",
              "        const element = document.querySelector('#df-167afe46-ed76-4574-86ea-5a4ea319fce4');\n",
              "        const dataTable =\n",
              "          await google.colab.kernel.invokeFunction('convertToInteractive',\n",
              "                                                    [key], {});\n",
              "        if (!dataTable) return;\n",
              "\n",
              "        const docLinkHtml = 'Like what you see? Visit the ' +\n",
              "          '<a target=\"_blank\" href=https://colab.research.google.com/notebooks/data_table.ipynb>data table notebook</a>'\n",
              "          + ' to learn more about interactive tables.';\n",
              "        element.innerHTML = '';\n",
              "        dataTable['output_type'] = 'display_data';\n",
              "        await google.colab.output.renderOutput(dataTable, element);\n",
              "        const docLink = document.createElement('div');\n",
              "        docLink.innerHTML = docLinkHtml;\n",
              "        element.appendChild(docLink);\n",
              "      }\n",
              "    </script>\n",
              "  </div>\n",
              "\n",
              "\n",
              "<div id=\"df-02cf6de1-4f57-4cb4-a48b-b0fd3201da73\">\n",
              "  <button class=\"colab-df-quickchart\" onclick=\"quickchart('df-02cf6de1-4f57-4cb4-a48b-b0fd3201da73')\"\n",
              "            title=\"Suggest charts\"\n",
              "            style=\"display:none;\">\n",
              "\n",
              "<svg xmlns=\"http://www.w3.org/2000/svg\" height=\"24px\"viewBox=\"0 0 24 24\"\n",
              "     width=\"24px\">\n",
              "    <g>\n",
              "        <path d=\"M19 3H5c-1.1 0-2 .9-2 2v14c0 1.1.9 2 2 2h14c1.1 0 2-.9 2-2V5c0-1.1-.9-2-2-2zM9 17H7v-7h2v7zm4 0h-2V7h2v10zm4 0h-2v-4h2v4z\"/>\n",
              "    </g>\n",
              "</svg>\n",
              "  </button>\n",
              "\n",
              "<style>\n",
              "  .colab-df-quickchart {\n",
              "      --bg-color: #E8F0FE;\n",
              "      --fill-color: #1967D2;\n",
              "      --hover-bg-color: #E2EBFA;\n",
              "      --hover-fill-color: #174EA6;\n",
              "      --disabled-fill-color: #AAA;\n",
              "      --disabled-bg-color: #DDD;\n",
              "  }\n",
              "\n",
              "  [theme=dark] .colab-df-quickchart {\n",
              "      --bg-color: #3B4455;\n",
              "      --fill-color: #D2E3FC;\n",
              "      --hover-bg-color: #434B5C;\n",
              "      --hover-fill-color: #FFFFFF;\n",
              "      --disabled-bg-color: #3B4455;\n",
              "      --disabled-fill-color: #666;\n",
              "  }\n",
              "\n",
              "  .colab-df-quickchart {\n",
              "    background-color: var(--bg-color);\n",
              "    border: none;\n",
              "    border-radius: 50%;\n",
              "    cursor: pointer;\n",
              "    display: none;\n",
              "    fill: var(--fill-color);\n",
              "    height: 32px;\n",
              "    padding: 0;\n",
              "    width: 32px;\n",
              "  }\n",
              "\n",
              "  .colab-df-quickchart:hover {\n",
              "    background-color: var(--hover-bg-color);\n",
              "    box-shadow: 0 1px 2px rgba(60, 64, 67, 0.3), 0 1px 3px 1px rgba(60, 64, 67, 0.15);\n",
              "    fill: var(--button-hover-fill-color);\n",
              "  }\n",
              "\n",
              "  .colab-df-quickchart-complete:disabled,\n",
              "  .colab-df-quickchart-complete:disabled:hover {\n",
              "    background-color: var(--disabled-bg-color);\n",
              "    fill: var(--disabled-fill-color);\n",
              "    box-shadow: none;\n",
              "  }\n",
              "\n",
              "  .colab-df-spinner {\n",
              "    border: 2px solid var(--fill-color);\n",
              "    border-color: transparent;\n",
              "    border-bottom-color: var(--fill-color);\n",
              "    animation:\n",
              "      spin 1s steps(1) infinite;\n",
              "  }\n",
              "\n",
              "  @keyframes spin {\n",
              "    0% {\n",
              "      border-color: transparent;\n",
              "      border-bottom-color: var(--fill-color);\n",
              "      border-left-color: var(--fill-color);\n",
              "    }\n",
              "    20% {\n",
              "      border-color: transparent;\n",
              "      border-left-color: var(--fill-color);\n",
              "      border-top-color: var(--fill-color);\n",
              "    }\n",
              "    30% {\n",
              "      border-color: transparent;\n",
              "      border-left-color: var(--fill-color);\n",
              "      border-top-color: var(--fill-color);\n",
              "      border-right-color: var(--fill-color);\n",
              "    }\n",
              "    40% {\n",
              "      border-color: transparent;\n",
              "      border-right-color: var(--fill-color);\n",
              "      border-top-color: var(--fill-color);\n",
              "    }\n",
              "    60% {\n",
              "      border-color: transparent;\n",
              "      border-right-color: var(--fill-color);\n",
              "    }\n",
              "    80% {\n",
              "      border-color: transparent;\n",
              "      border-right-color: var(--fill-color);\n",
              "      border-bottom-color: var(--fill-color);\n",
              "    }\n",
              "    90% {\n",
              "      border-color: transparent;\n",
              "      border-bottom-color: var(--fill-color);\n",
              "    }\n",
              "  }\n",
              "</style>\n",
              "\n",
              "  <script>\n",
              "    async function quickchart(key) {\n",
              "      const quickchartButtonEl =\n",
              "        document.querySelector('#' + key + ' button');\n",
              "      quickchartButtonEl.disabled = true;  // To prevent multiple clicks.\n",
              "      quickchartButtonEl.classList.add('colab-df-spinner');\n",
              "      try {\n",
              "        const charts = await google.colab.kernel.invokeFunction(\n",
              "            'suggestCharts', [key], {});\n",
              "      } catch (error) {\n",
              "        console.error('Error during call to suggestCharts:', error);\n",
              "      }\n",
              "      quickchartButtonEl.classList.remove('colab-df-spinner');\n",
              "      quickchartButtonEl.classList.add('colab-df-quickchart-complete');\n",
              "    }\n",
              "    (() => {\n",
              "      let quickchartButtonEl =\n",
              "        document.querySelector('#df-02cf6de1-4f57-4cb4-a48b-b0fd3201da73 button');\n",
              "      quickchartButtonEl.style.display =\n",
              "        google.colab.kernel.accessAllowed ? 'block' : 'none';\n",
              "    })();\n",
              "  </script>\n",
              "</div>\n",
              "    </div>\n",
              "  </div>\n"
            ]
          },
          "metadata": {},
          "execution_count": 11
        }
      ]
    },
    {
      "cell_type": "markdown",
      "source": [
        "### 2. Plotting the Data"
      ],
      "metadata": {
        "id": "Utfy4sGGjxoK"
      }
    },
    {
      "cell_type": "code",
      "source": [
        "df['High'].plot(figsize=(12,4))"
      ],
      "metadata": {
        "id": "k_Vr7vCZjxIq"
      },
      "execution_count": null,
      "outputs": []
    },
    {
      "cell_type": "code",
      "source": [
        "## xlimit and y limit\n",
        "df['High'].plot(xlim=['2023-01-01','2024-02-01'],figsize=(12,4))"
      ],
      "metadata": {
        "id": "H9Xr0C6ekViU"
      },
      "execution_count": null,
      "outputs": []
    },
    {
      "cell_type": "code",
      "source": [
        "## xlimit and y limit\n",
        "df['High'].plot(xlim=['2023-01-01','2024-02-01'],ylim=[0,500],figsize=(12,4))"
      ],
      "metadata": {
        "id": "JqhbgONqko2K"
      },
      "execution_count": null,
      "outputs": []
    },
    {
      "cell_type": "code",
      "source": [
        "## xlimit and y limit and coloring\n",
        "df['High'].plot(xlim=['2020-01-01','2021-09-01'],ylim=[0,500],figsize=(12,4),ls='--',c='green')"
      ],
      "metadata": {
        "id": "v0BjzqLfk8rh"
      },
      "execution_count": null,
      "outputs": []
    },
    {
      "cell_type": "markdown",
      "source": [
        "### 3. Date Time Index"
      ],
      "metadata": {
        "id": "L2U8mQGsmKo6"
      }
    },
    {
      "cell_type": "code",
      "source": [
        "df.index"
      ],
      "metadata": {
        "colab": {
          "base_uri": "https://localhost:8080/"
        },
        "id": "7XBXebqZmT-A",
        "outputId": "d367cd04-1381-42b2-e821-f9559eefc8e6"
      },
      "execution_count": 19,
      "outputs": [
        {
          "output_type": "execute_result",
          "data": {
            "text/plain": [
              "DatetimeIndex(['2010-06-29', '2010-06-30', '2010-07-01', '2010-07-02',\n",
              "               '2010-07-06', '2010-07-07', '2010-07-08', '2010-07-09',\n",
              "               '2010-07-12', '2010-07-13',\n",
              "               ...\n",
              "               '2024-01-29', '2024-01-30', '2024-01-31', '2024-02-01',\n",
              "               '2024-02-02', '2024-02-05', '2024-02-06', '2024-02-07',\n",
              "               '2024-02-08', '2024-02-09'],\n",
              "              dtype='datetime64[ns]', name='Date', length=3428, freq=None)"
            ]
          },
          "metadata": {},
          "execution_count": 19
        }
      ]
    },
    {
      "cell_type": "code",
      "source": [
        "index=df.loc['2023-01-01':'2024-02-01'].index\n",
        "share_open=df.loc['2023-01-01':'2024-02-01']['Open']"
      ],
      "metadata": {
        "id": "UC9TrSXzmumz"
      },
      "execution_count": 20,
      "outputs": []
    },
    {
      "cell_type": "code",
      "source": [
        "index"
      ],
      "metadata": {
        "id": "1uYlLJrLm9TJ"
      },
      "execution_count": null,
      "outputs": []
    },
    {
      "cell_type": "code",
      "source": [
        "import matplotlib.pyplot as plt"
      ],
      "metadata": {
        "id": "i9CuwjAHnW_h"
      },
      "execution_count": 23,
      "outputs": []
    },
    {
      "cell_type": "code",
      "source": [
        "plt.plot(share_open)"
      ],
      "metadata": {
        "id": "xrAfP3MCnq1w"
      },
      "execution_count": null,
      "outputs": []
    },
    {
      "cell_type": "markdown",
      "source": [
        "### 4. Time Resampling"
      ],
      "metadata": {
        "id": "EqaAnr1Zuc4K"
      }
    },
    {
      "cell_type": "code",
      "source": [
        "df.head()"
      ],
      "metadata": {
        "colab": {
          "base_uri": "https://localhost:8080/",
          "height": 237
        },
        "id": "4pU4Fgnzun9d",
        "outputId": "4ed241a0-2273-4978-e906-52890b0db269"
      },
      "execution_count": 35,
      "outputs": [
        {
          "output_type": "execute_result",
          "data": {
            "text/plain": [
              "                Open      High       Low     Close  Adj Close     Volume\n",
              "Date                                                                    \n",
              "2010-06-29  1.266667  1.666667  1.169333  1.592667   1.592667  281494500\n",
              "2010-06-30  1.719333  2.028000  1.553333  1.588667   1.588667  257806500\n",
              "2010-07-01  1.666667  1.728000  1.351333  1.464000   1.464000  123282000\n",
              "2010-07-02  1.533333  1.540000  1.247333  1.280000   1.280000   77097000\n",
              "2010-07-06  1.333333  1.333333  1.055333  1.074000   1.074000  103003500"
            ],
            "text/html": [
              "\n",
              "  <div id=\"df-376fb3dc-5d29-4663-a091-9b961d9c3ee3\" class=\"colab-df-container\">\n",
              "    <div>\n",
              "<style scoped>\n",
              "    .dataframe tbody tr th:only-of-type {\n",
              "        vertical-align: middle;\n",
              "    }\n",
              "\n",
              "    .dataframe tbody tr th {\n",
              "        vertical-align: top;\n",
              "    }\n",
              "\n",
              "    .dataframe thead th {\n",
              "        text-align: right;\n",
              "    }\n",
              "</style>\n",
              "<table border=\"1\" class=\"dataframe\">\n",
              "  <thead>\n",
              "    <tr style=\"text-align: right;\">\n",
              "      <th></th>\n",
              "      <th>Open</th>\n",
              "      <th>High</th>\n",
              "      <th>Low</th>\n",
              "      <th>Close</th>\n",
              "      <th>Adj Close</th>\n",
              "      <th>Volume</th>\n",
              "    </tr>\n",
              "    <tr>\n",
              "      <th>Date</th>\n",
              "      <th></th>\n",
              "      <th></th>\n",
              "      <th></th>\n",
              "      <th></th>\n",
              "      <th></th>\n",
              "      <th></th>\n",
              "    </tr>\n",
              "  </thead>\n",
              "  <tbody>\n",
              "    <tr>\n",
              "      <th>2010-06-29</th>\n",
              "      <td>1.266667</td>\n",
              "      <td>1.666667</td>\n",
              "      <td>1.169333</td>\n",
              "      <td>1.592667</td>\n",
              "      <td>1.592667</td>\n",
              "      <td>281494500</td>\n",
              "    </tr>\n",
              "    <tr>\n",
              "      <th>2010-06-30</th>\n",
              "      <td>1.719333</td>\n",
              "      <td>2.028000</td>\n",
              "      <td>1.553333</td>\n",
              "      <td>1.588667</td>\n",
              "      <td>1.588667</td>\n",
              "      <td>257806500</td>\n",
              "    </tr>\n",
              "    <tr>\n",
              "      <th>2010-07-01</th>\n",
              "      <td>1.666667</td>\n",
              "      <td>1.728000</td>\n",
              "      <td>1.351333</td>\n",
              "      <td>1.464000</td>\n",
              "      <td>1.464000</td>\n",
              "      <td>123282000</td>\n",
              "    </tr>\n",
              "    <tr>\n",
              "      <th>2010-07-02</th>\n",
              "      <td>1.533333</td>\n",
              "      <td>1.540000</td>\n",
              "      <td>1.247333</td>\n",
              "      <td>1.280000</td>\n",
              "      <td>1.280000</td>\n",
              "      <td>77097000</td>\n",
              "    </tr>\n",
              "    <tr>\n",
              "      <th>2010-07-06</th>\n",
              "      <td>1.333333</td>\n",
              "      <td>1.333333</td>\n",
              "      <td>1.055333</td>\n",
              "      <td>1.074000</td>\n",
              "      <td>1.074000</td>\n",
              "      <td>103003500</td>\n",
              "    </tr>\n",
              "  </tbody>\n",
              "</table>\n",
              "</div>\n",
              "    <div class=\"colab-df-buttons\">\n",
              "\n",
              "  <div class=\"colab-df-container\">\n",
              "    <button class=\"colab-df-convert\" onclick=\"convertToInteractive('df-376fb3dc-5d29-4663-a091-9b961d9c3ee3')\"\n",
              "            title=\"Convert this dataframe to an interactive table.\"\n",
              "            style=\"display:none;\">\n",
              "\n",
              "  <svg xmlns=\"http://www.w3.org/2000/svg\" height=\"24px\" viewBox=\"0 -960 960 960\">\n",
              "    <path d=\"M120-120v-720h720v720H120Zm60-500h600v-160H180v160Zm220 220h160v-160H400v160Zm0 220h160v-160H400v160ZM180-400h160v-160H180v160Zm440 0h160v-160H620v160ZM180-180h160v-160H180v160Zm440 0h160v-160H620v160Z\"/>\n",
              "  </svg>\n",
              "    </button>\n",
              "\n",
              "  <style>\n",
              "    .colab-df-container {\n",
              "      display:flex;\n",
              "      gap: 12px;\n",
              "    }\n",
              "\n",
              "    .colab-df-convert {\n",
              "      background-color: #E8F0FE;\n",
              "      border: none;\n",
              "      border-radius: 50%;\n",
              "      cursor: pointer;\n",
              "      display: none;\n",
              "      fill: #1967D2;\n",
              "      height: 32px;\n",
              "      padding: 0 0 0 0;\n",
              "      width: 32px;\n",
              "    }\n",
              "\n",
              "    .colab-df-convert:hover {\n",
              "      background-color: #E2EBFA;\n",
              "      box-shadow: 0px 1px 2px rgba(60, 64, 67, 0.3), 0px 1px 3px 1px rgba(60, 64, 67, 0.15);\n",
              "      fill: #174EA6;\n",
              "    }\n",
              "\n",
              "    .colab-df-buttons div {\n",
              "      margin-bottom: 4px;\n",
              "    }\n",
              "\n",
              "    [theme=dark] .colab-df-convert {\n",
              "      background-color: #3B4455;\n",
              "      fill: #D2E3FC;\n",
              "    }\n",
              "\n",
              "    [theme=dark] .colab-df-convert:hover {\n",
              "      background-color: #434B5C;\n",
              "      box-shadow: 0px 1px 3px 1px rgba(0, 0, 0, 0.15);\n",
              "      filter: drop-shadow(0px 1px 2px rgba(0, 0, 0, 0.3));\n",
              "      fill: #FFFFFF;\n",
              "    }\n",
              "  </style>\n",
              "\n",
              "    <script>\n",
              "      const buttonEl =\n",
              "        document.querySelector('#df-376fb3dc-5d29-4663-a091-9b961d9c3ee3 button.colab-df-convert');\n",
              "      buttonEl.style.display =\n",
              "        google.colab.kernel.accessAllowed ? 'block' : 'none';\n",
              "\n",
              "      async function convertToInteractive(key) {\n",
              "        const element = document.querySelector('#df-376fb3dc-5d29-4663-a091-9b961d9c3ee3');\n",
              "        const dataTable =\n",
              "          await google.colab.kernel.invokeFunction('convertToInteractive',\n",
              "                                                    [key], {});\n",
              "        if (!dataTable) return;\n",
              "\n",
              "        const docLinkHtml = 'Like what you see? Visit the ' +\n",
              "          '<a target=\"_blank\" href=https://colab.research.google.com/notebooks/data_table.ipynb>data table notebook</a>'\n",
              "          + ' to learn more about interactive tables.';\n",
              "        element.innerHTML = '';\n",
              "        dataTable['output_type'] = 'display_data';\n",
              "        await google.colab.output.renderOutput(dataTable, element);\n",
              "        const docLink = document.createElement('div');\n",
              "        docLink.innerHTML = docLinkHtml;\n",
              "        element.appendChild(docLink);\n",
              "      }\n",
              "    </script>\n",
              "  </div>\n",
              "\n",
              "\n",
              "<div id=\"df-b8216088-8b36-4270-b947-7c676db9e5ac\">\n",
              "  <button class=\"colab-df-quickchart\" onclick=\"quickchart('df-b8216088-8b36-4270-b947-7c676db9e5ac')\"\n",
              "            title=\"Suggest charts\"\n",
              "            style=\"display:none;\">\n",
              "\n",
              "<svg xmlns=\"http://www.w3.org/2000/svg\" height=\"24px\"viewBox=\"0 0 24 24\"\n",
              "     width=\"24px\">\n",
              "    <g>\n",
              "        <path d=\"M19 3H5c-1.1 0-2 .9-2 2v14c0 1.1.9 2 2 2h14c1.1 0 2-.9 2-2V5c0-1.1-.9-2-2-2zM9 17H7v-7h2v7zm4 0h-2V7h2v10zm4 0h-2v-4h2v4z\"/>\n",
              "    </g>\n",
              "</svg>\n",
              "  </button>\n",
              "\n",
              "<style>\n",
              "  .colab-df-quickchart {\n",
              "      --bg-color: #E8F0FE;\n",
              "      --fill-color: #1967D2;\n",
              "      --hover-bg-color: #E2EBFA;\n",
              "      --hover-fill-color: #174EA6;\n",
              "      --disabled-fill-color: #AAA;\n",
              "      --disabled-bg-color: #DDD;\n",
              "  }\n",
              "\n",
              "  [theme=dark] .colab-df-quickchart {\n",
              "      --bg-color: #3B4455;\n",
              "      --fill-color: #D2E3FC;\n",
              "      --hover-bg-color: #434B5C;\n",
              "      --hover-fill-color: #FFFFFF;\n",
              "      --disabled-bg-color: #3B4455;\n",
              "      --disabled-fill-color: #666;\n",
              "  }\n",
              "\n",
              "  .colab-df-quickchart {\n",
              "    background-color: var(--bg-color);\n",
              "    border: none;\n",
              "    border-radius: 50%;\n",
              "    cursor: pointer;\n",
              "    display: none;\n",
              "    fill: var(--fill-color);\n",
              "    height: 32px;\n",
              "    padding: 0;\n",
              "    width: 32px;\n",
              "  }\n",
              "\n",
              "  .colab-df-quickchart:hover {\n",
              "    background-color: var(--hover-bg-color);\n",
              "    box-shadow: 0 1px 2px rgba(60, 64, 67, 0.3), 0 1px 3px 1px rgba(60, 64, 67, 0.15);\n",
              "    fill: var(--button-hover-fill-color);\n",
              "  }\n",
              "\n",
              "  .colab-df-quickchart-complete:disabled,\n",
              "  .colab-df-quickchart-complete:disabled:hover {\n",
              "    background-color: var(--disabled-bg-color);\n",
              "    fill: var(--disabled-fill-color);\n",
              "    box-shadow: none;\n",
              "  }\n",
              "\n",
              "  .colab-df-spinner {\n",
              "    border: 2px solid var(--fill-color);\n",
              "    border-color: transparent;\n",
              "    border-bottom-color: var(--fill-color);\n",
              "    animation:\n",
              "      spin 1s steps(1) infinite;\n",
              "  }\n",
              "\n",
              "  @keyframes spin {\n",
              "    0% {\n",
              "      border-color: transparent;\n",
              "      border-bottom-color: var(--fill-color);\n",
              "      border-left-color: var(--fill-color);\n",
              "    }\n",
              "    20% {\n",
              "      border-color: transparent;\n",
              "      border-left-color: var(--fill-color);\n",
              "      border-top-color: var(--fill-color);\n",
              "    }\n",
              "    30% {\n",
              "      border-color: transparent;\n",
              "      border-left-color: var(--fill-color);\n",
              "      border-top-color: var(--fill-color);\n",
              "      border-right-color: var(--fill-color);\n",
              "    }\n",
              "    40% {\n",
              "      border-color: transparent;\n",
              "      border-right-color: var(--fill-color);\n",
              "      border-top-color: var(--fill-color);\n",
              "    }\n",
              "    60% {\n",
              "      border-color: transparent;\n",
              "      border-right-color: var(--fill-color);\n",
              "    }\n",
              "    80% {\n",
              "      border-color: transparent;\n",
              "      border-right-color: var(--fill-color);\n",
              "      border-bottom-color: var(--fill-color);\n",
              "    }\n",
              "    90% {\n",
              "      border-color: transparent;\n",
              "      border-bottom-color: var(--fill-color);\n",
              "    }\n",
              "  }\n",
              "</style>\n",
              "\n",
              "  <script>\n",
              "    async function quickchart(key) {\n",
              "      const quickchartButtonEl =\n",
              "        document.querySelector('#' + key + ' button');\n",
              "      quickchartButtonEl.disabled = true;  // To prevent multiple clicks.\n",
              "      quickchartButtonEl.classList.add('colab-df-spinner');\n",
              "      try {\n",
              "        const charts = await google.colab.kernel.invokeFunction(\n",
              "            'suggestCharts', [key], {});\n",
              "      } catch (error) {\n",
              "        console.error('Error during call to suggestCharts:', error);\n",
              "      }\n",
              "      quickchartButtonEl.classList.remove('colab-df-spinner');\n",
              "      quickchartButtonEl.classList.add('colab-df-quickchart-complete');\n",
              "    }\n",
              "    (() => {\n",
              "      let quickchartButtonEl =\n",
              "        document.querySelector('#df-b8216088-8b36-4270-b947-7c676db9e5ac button');\n",
              "      quickchartButtonEl.style.display =\n",
              "        google.colab.kernel.accessAllowed ? 'block' : 'none';\n",
              "    })();\n",
              "  </script>\n",
              "</div>\n",
              "    </div>\n",
              "  </div>\n"
            ]
          },
          "metadata": {},
          "execution_count": 35
        }
      ]
    },
    {
      "cell_type": "code",
      "source": [
        "##year end frequency\n",
        "df.resample(rule='A').min()"
      ],
      "metadata": {
        "id": "Ez387TUruq0K"
      },
      "execution_count": null,
      "outputs": []
    },
    {
      "cell_type": "code",
      "source": [
        "df.resample(rule='A').max()"
      ],
      "metadata": {
        "id": "H63aitvLvdcY"
      },
      "execution_count": null,
      "outputs": []
    },
    {
      "cell_type": "code",
      "source": [
        "df.resample(rule='A').max()['Open'].plot()"
      ],
      "metadata": {
        "id": "8XQCSsSJveCO"
      },
      "execution_count": null,
      "outputs": []
    },
    {
      "cell_type": "code",
      "source": [
        "##quaterly start frequency\n",
        "##https://towardsdatascience.com/resample-function-of-pandas-79b17ec82a78\n",
        "df.resample(rule='QS').max()['High'].plot()"
      ],
      "metadata": {
        "id": "9UZfeojqv1l2"
      },
      "execution_count": null,
      "outputs": []
    },
    {
      "cell_type": "code",
      "source": [
        "##Business End Frequency\n",
        "##https://towardsdatascience.com/resample-function-of-pandas-79b17ec82a78\n",
        "df.resample(rule='BA').max()"
      ],
      "metadata": {
        "id": "v2oE770Ov-aP"
      },
      "execution_count": null,
      "outputs": []
    },
    {
      "cell_type": "code",
      "source": [
        "##plotting\n",
        "df['Open'].resample(rule='A').mean().plot(kind='bar')"
      ],
      "metadata": {
        "id": "JlQ8JjviwJmm"
      },
      "execution_count": null,
      "outputs": []
    },
    {
      "cell_type": "markdown",
      "source": [
        "### 5. Rolling and Expanding"
      ],
      "metadata": {
        "id": "wsiR6Uvvwbw-"
      }
    },
    {
      "cell_type": "markdown",
      "source": [
        "The rolling method is used for rolling window calculations, commonly used for time-series data in pandas.\n",
        "\n"
      ],
      "metadata": {
        "id": "ttVmWyfk3DMy"
      }
    },
    {
      "cell_type": "markdown",
      "source": [
        "![image.png](data:image/png;base64,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)"
      ],
      "metadata": {
        "id": "S0h6sogT20NW"
      }
    },
    {
      "cell_type": "markdown",
      "source": [
        "![image.png](data:image/png;base64,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)"
      ],
      "metadata": {
        "id": "0kRt92oF3Oca"
      }
    },
    {
      "cell_type": "markdown",
      "source": [
        "\n",
        "Display the result\n",
        "print(rolling_mean)\n",
        "Now, let's break down the calculation:\n",
        "\n",
        "First Window (index 0-2):\n",
        "\n",
        "Mean of [10, 12, 15] = (10 + 12 + 15) / 3 = 37 / 3 ≈ 12.333333\n",
        "Result for index 2: 12.333333\n",
        "\n",
        "Second Window (index 1-3):\n",
        "\n",
        "Mean of [12, 15, 18] = (12 + 15 + 18) / 3 = 45 / 3 = 15.0\n",
        "Result for index 3: 15.0"
      ],
      "metadata": {
        "id": "blXbeS4z3Wby"
      }
    },
    {
      "cell_type": "code",
      "source": [
        "df['High'].rolling(10).max().head(20)"
      ],
      "metadata": {
        "colab": {
          "base_uri": "https://localhost:8080/"
        },
        "id": "CuVtVJA_wbQX",
        "outputId": "b4f8a006-c0e1-47d4-a371-f11d3592ecab"
      },
      "execution_count": 42,
      "outputs": [
        {
          "output_type": "execute_result",
          "data": {
            "text/plain": [
              "Date\n",
              "2010-06-29         NaN\n",
              "2010-06-30         NaN\n",
              "2010-07-01         NaN\n",
              "2010-07-02         NaN\n",
              "2010-07-06         NaN\n",
              "2010-07-07         NaN\n",
              "2010-07-08         NaN\n",
              "2010-07-09         NaN\n",
              "2010-07-12         NaN\n",
              "2010-07-13    2.028000\n",
              "2010-07-14    2.028000\n",
              "2010-07-15    1.728000\n",
              "2010-07-16    1.540000\n",
              "2010-07-19    1.483333\n",
              "2010-07-20    1.483333\n",
              "2010-07-21    1.483333\n",
              "2010-07-22    1.483333\n",
              "2010-07-23    1.483333\n",
              "2010-07-26    1.483333\n",
              "2010-07-27    1.483333\n",
              "Name: High, dtype: float64"
            ]
          },
          "metadata": {},
          "execution_count": 42
        }
      ]
    },
    {
      "cell_type": "code",
      "source": [
        "df['Open:30 days rolling']=df['Open'].rolling(30).mean()"
      ],
      "metadata": {
        "id": "0PFS-nfv38PI"
      },
      "execution_count": 43,
      "outputs": []
    },
    {
      "cell_type": "code",
      "source": [
        "df[['Open','Open:30 days rolling']].plot(figsize=(12,5))"
      ],
      "metadata": {
        "colab": {
          "base_uri": "https://localhost:8080/",
          "height": 453
        },
        "id": "ECiwhMGO4BxH",
        "outputId": "478c4d39-79d1-4148-d20a-32cb6a06f503"
      },
      "execution_count": 44,
      "outputs": [
        {
          "output_type": "execute_result",
          "data": {
            "text/plain": [
              "<Axes: xlabel='Date'>"
            ]
          },
          "metadata": {},
          "execution_count": 44
        },
        {
          "output_type": "display_data",
          "data": {
            "text/plain": [
              "<Figure size 1200x500 with 1 Axes>"
            ],
            "image/png": "[encoded data removed]"
          },
          "metadata": {}
        }
      ]
    },
    {
      "cell_type": "markdown",
      "source": [
        " rolling focuses on analyzing data within a fixed-size window that moves through the time series, while expanding considers all data points up to the current position, creating an expanding window. The choice between the two depends on the specific analysis or trend identification you are looking to achieve in your time-series data."
      ],
      "metadata": {
        "id": "m2cmw7hU4jNu"
      }
    }
  ]
}