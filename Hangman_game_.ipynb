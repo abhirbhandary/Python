{
  "nbformat": 4,
  "nbformat_minor": 0,
  "metadata": {
    "colab": {
      "provenance": [],
      "authorship_tag": "ABX9TyPjNokKun88an+rIAdl/s37",
      "include_colab_link": true
    },
    "kernelspec": {
      "name": "python3",
      "display_name": "Python 3"
    },
    "language_info": {
      "name": "python"
    }
  },
  "cells": [
    {
      "cell_type": "markdown",
      "metadata": {
        "id": "view-in-github",
        "colab_type": "text"
      },
      "source": [
        "<a href=\"https://colab.research.google.com/github/abhirbhandary/Python/blob/main/Hangman_game_.ipynb\" target=\"_parent\"><img src=\"https://colab.research.google.com/assets/colab-badge.svg\" alt=\"Open In Colab\"/></a>"
      ]
    },
    {
      "cell_type": "markdown",
      "metadata": {
        "id": "649cee80-bfe9-4cf7-955b-560a475b94d7"
      },
      "source": [
        "# Hangman game"
      ]
    },
    {
      "cell_type": "markdown",
      "metadata": {
        "id": "451fb977-2ab3-4c26-b7d6-dee486eef375"
      },
      "source": [
        "Hangman is a guessing game where the player(s) try to guess the word by suggesting a letters.\n",
        "Player is allowed a certain number of mistakes.\n",
        "The game starts with a word where all letters are replaced with a `-` so the only information available to a player is a number of letters in a word.\n",
        "**Start**: `------`\n",
        "For each correctly guessed letter, a position of the letter is revealed (if there are multiple positions for a same letter, they are all revealed.\n",
        "**Correct**: `-E--E-`\n",
        "For each wrongly guessed letter, number of allowed mistakes decreases by 1.\n",
        "**Wrong**: 'Number of allowed mistakes is now 5'"
      ]
    },
    {
      "cell_type": "markdown",
      "metadata": {
        "id": "ba3d2b29-e8f8-43fd-91c4-ab89fb4a611b"
      },
      "source": [
        "Name of the game comes from a drawing of a hanged stick figure. For every mistake a new element of a hanged figure is added.\n",
        "If a player guesses a word before the last element of a figure is added, a player wins.\n",
        "If a player doesn't guess a word before the last element of a figure is added, player loses."
      ]
    },
    {
      "cell_type": "markdown",
      "metadata": {
        "id": "Ppc_M2xiCCc7"
      },
      "source": [
        "Prerequisites:\n",
        "1. Download the code as hangman.py into any folder.\n",
        "2. Run the below code first to install the English Dictionary\n",
        "3. !pip install english-words==1.1.0\n",
        "\n",
        "To play:\n",
        "- Run `Hangman game`\n",
        "\n",
        "This Hangman game features:\n",
        "1. A simple interactive system that asks user for input for each letter.\n",
        "2. A simple visual interfece that draws the hangman as the game progresses.\n",
        "3. Capability of choosing level of difficulty.\n",
        "4. Check users input to make sure it is correct(e.g. no digits or special characters allowed, no more than one letter allowed).\n",
        "5. A Cheat mode where entering the secret code reveals the word and declares you the winner."
      ]
    },
    {
      "cell_type": "code",
      "source": [
        "!pip install english-words==1.1.0\n",
        "import random\n",
        "import time\n",
        "from english_words import english_words_alpha_set\n",
        "\n",
        "hangman={0:'''\n",
        "        ____________\n",
        "         |''',\n",
        "        1:'''\n",
        "        ____________\n",
        "         |\n",
        "         O''',\n",
        "        2:'''\n",
        "        ____________\n",
        "         |\n",
        "         O\n",
        "        /''',\n",
        "        3:'''\n",
        "        ____________\n",
        "         |\n",
        "         O\n",
        "        / \\\\''',\n",
        "        4:'''\n",
        "        ____________\n",
        "         |\n",
        "         O\n",
        "        / \\\\\n",
        "         |''',\n",
        "        5:'''\n",
        "        ____________\n",
        "         |\n",
        "         O\n",
        "        / \\\\\n",
        "         |\n",
        "        /''',\n",
        "        6:'''\n",
        "        ____________\n",
        "         |\n",
        "         O\n",
        "        / \\\\\n",
        "         |\n",
        "        / \\\\ '''}\n",
        "\n",
        "logo = '''\n",
        " _\n",
        "| |\n",
        "| |__   __ _ _ __   __ _ _ __ ___   __ _ _ __\n",
        "| '_ \\ / _` | '_ \\ / _` | '_ ` _ \\ / _` | '_ \\\n",
        "| | | | (_| | | | | (_| | | | | | | (_| | | | |\n",
        "|_| |_|\\__,_|_| |_|\\__, |_| |_| |_|\\__,_|_| |_|\n",
        "                    __/ |\n",
        "                   |___/    '''\n",
        "\n",
        "\n",
        "print(logo)\n",
        "print(\"-----Welcome to HANGMAN, You get seven chances to guess the mystery word-----\")\n",
        "difficulty = int(input(\"\"\"choose your difficulty,\n",
        "1 = EASY\n",
        "2 = INSANE\"\"\"))\n",
        "print(\"you have chosen\", difficulty)\n",
        "\n",
        "\n",
        "if difficulty == 1:\n",
        "  # Setting up the words\n",
        "  print(\"Shhhhh... Its one of our class mates\")\n",
        "  list_of_words = [\"ABHIR\",\"ELNUR\",\"VERONICA\",\"ANNIE\",\"JONAS\",\"FELIX\",\"YIGIT\",\"JESSICA\",\"KYLE\",\"VELI\",\"CHARLES\",\"RENATA\"]\n",
        "  word = random.choice(list_of_words)\n",
        "else:\n",
        "  #setting up English DICT\n",
        "  list_of_words = list(english_words_alpha_set)\n",
        "  word = random.choice(list_of_words)\n",
        "\n",
        "\n",
        "\n",
        "turns = 7\n",
        "guessed_word = \"-\"*len(word)                              # For number of dashes to be shown to user - Multiply by number of letters\n",
        "\n",
        "\n",
        "password = \"wbs\".upper()                                   #Cheat Mode\n",
        "used = []                                                  # For Checking if the letter already used\n",
        "\n",
        "\n",
        "while turns != 0:\n",
        "\n",
        "  print(\"Hidden word is \", guessed_word)                              # to print after each iteration\n",
        "  print('==============================================================')\n",
        "  letter = input(\"Guess a letter:\").upper()                           #Takeing the input\n",
        "\n",
        "  if letter == password:                                              #Cheat Mode\n",
        "    print(\" \")\n",
        "    print(\"please wait...\")\n",
        "    time.sleep(5)\n",
        "    print(\"cheat-code activated\")\n",
        "    print(\" \")\n",
        "    print(\"Correct word is\", word)\n",
        "    print(\"You are the Winner!!!!\")\n",
        "    break\n",
        "\n",
        "\n",
        "  if letter.isdigit() is True:                                        #Check for digits\n",
        "    print(\"Invalid Input\")\n",
        "    continue\n",
        "\n",
        "\n",
        "  if len(letter) > 1:                                                 #More than one letter\n",
        "    print(\"Invalid Input\")\n",
        "    continue\n",
        "\n",
        "\n",
        "  if letter.isalpha() is False:                                       #Check for special character\n",
        "    print(\"Invalid Input\")\n",
        "    continue\n",
        "\n",
        "\n",
        "  while letter in used:                                               # Check if letter already used\n",
        "    print(\"You've already guessed the letter:\", used)\n",
        "    letter = input(\"Guess a letter:\").upper()\n",
        "\n",
        "  used.append(letter)\n",
        "\n",
        "\n",
        "  if letter in word:                                                  # if a letter is found we have replace dash with that letter\n",
        "    for i in range(len(word)):\n",
        "      if word[i]== letter:\n",
        "        guessed_word = guessed_word[:i] + letter + guessed_word[i+1:]                 #To get to the location and replace it\n",
        "        print('==============================================================')\n",
        "        #print(guessed_word)                                                          # for testing\n",
        "    if guessed_word == word:\n",
        "      print(\"You Won !!!!!\")\n",
        "      print(\"The Word is \", word)\n",
        "      break\n",
        "\n",
        "  else:\n",
        "    turns = turns - 1\n",
        "    print(\"Incorrect Guess!!!!\")\n",
        "    print(\"The remaining chances are: \",turns)\n",
        "    print(hangman[6 - turns])                                                         # Use of Hangman Dictionary\n",
        "\n",
        "else:                              # While and else statement used together. With the else statement we can run a block of code once when the condition no longer is true\n",
        "  print(\"Game Over\")\n",
        "  print(\"You Loose\")\n",
        "  print(\"The Word is \", word)"
      ],
      "metadata": {
        "id": "kzfk_Ou-ECTy"
      },
      "execution_count": null,
      "outputs": []
    }
  ]
}